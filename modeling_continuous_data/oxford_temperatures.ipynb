{
 "cells": [
  {
   "cell_type": "code",
   "execution_count": 1,
   "metadata": {},
   "outputs": [],
   "source": [
    "import matplotlib.pyplot as plt\n",
    "import numpy as np\n",
    "from matplotlib.artist import setp\n",
    "\n",
    "dataset = np.loadtxt(\"./data/oxford_temperatures.txt\")\n",
    "\n",
    "max_temp = np.array(dataset[:,2])\n",
    "min_temp = np.array(dataset[:,3])\n",
    "year = np.array(dataset[:,0])\n",
    "\n",
    "temp_january = dataset[0::12,2] # maximum_temperatures\n",
    "temp_february = dataset[1::12,2] \n",
    "temp_march = dataset[2::12,2] \n",
    "temp_april = dataset[3::12,2]\n",
    "temp_may = dataset[4::12,2]\n",
    "temp_june = dataset[5::12,2]\n",
    "temp_july = dataset[6::12,2]\n",
    "temp_august = dataset[7::12,2]\n",
    "temp_september = dataset[8::12,2]\n",
    "temp_october = dataset[9::12,2]\n",
    "temp_november = dataset[10::12,2]\n",
    "temp_december = dataset[11::12,2]\n",
    "\n",
    "data = [temp_january,temp_february,temp_march,temp_april,temp_may,temp_june,temp_july,temp_august,temp_september,\n",
    "        temp_october,temp_november,temp_december]\n",
    "# labels = [\"January\", \"February\",\"March\",\"April\",\"May\",\"June\",\"July\",\"August\",\"September\",\"October\",\"November\",\"December\"]\n",
    "\n",
    "font_size = 25\n",
    "font_size_legend = 25\n",
    "font_size_ticks = 22\n",
    "\n",
    "plt.figure(figsize=(15,6))\n",
    "plt.xticks(fontsize=font_size_ticks) \n",
    "plt.yticks(fontsize=font_size_ticks)\n",
    "dots = dict(markerfacecolor='black', marker='.')\n",
    "median_props = dict(color='black', lw=2.5)\n",
    "flierprops = dict(marker='+', markerfacecolor = 'steelblue', markeredgecolor='steelblue', markersize=8, mew=2,\n",
    "                  linestyle='none')\n",
    "whiskerprops = dict(linewidth=2, ls=\"--\", color='steelblue')\n",
    "plt.boxplot(data,boxprops=median_props, medianprops=median_props,flierprops=dots,whiskerprops=median_props,\n",
    "            capprops=median_props,widths=0.4)\n",
    "plt.xticks(fontsize=font_size_ticks) \n",
    "plt.yticks(fontsize=font_size_ticks)\n",
    "plt.xlabel(\"Month\", fontsize=font_size,labelpad=20)\n",
    "plt.ylabel(\"Max. temperature (°C)\", fontsize=font_size,labelpad=20)\n",
    "plt.savefig('plots/boxplot_temperatures.pdf',bbox_inches=\"tight\")\n"
   ]
  },
  {
   "cell_type": "code",
   "execution_count": null,
   "metadata": {},
   "outputs": [],
   "source": []
  }
 ],
 "metadata": {
  "kernelspec": {
   "display_name": "Python 3",
   "language": "python",
   "name": "python3"
  },
  "language_info": {
   "codemirror_mode": {
    "name": "ipython",
    "version": 3
   },
   "file_extension": ".py",
   "mimetype": "text/x-python",
   "name": "python",
   "nbconvert_exporter": "python",
   "pygments_lexer": "ipython3",
   "version": "3.7.4"
  }
 },
 "nbformat": 4,
 "nbformat_minor": 2
}
